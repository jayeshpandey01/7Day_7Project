{
 "cells": [
  {
   "cell_type": "markdown",
   "metadata": {},
   "source": [
    "## Image Classification By using CNN\n",
    "\n",
    "`Data_Set` = [Link](https://s3.amazonaws.com/fast-ai-imageclas/cifar10.tg)"
   ]
  },
  {
   "cell_type": "code",
   "execution_count": 14,
   "metadata": {},
   "outputs": [],
   "source": [
    "import os\n",
    "import torch\n",
    "import torchvision\n",
    "import tarfile\n",
    "from torchvision.datasets.utils import download_url\n",
    "from torch.utils.data import random_split"
   ]
  },
  {
   "cell_type": "markdown",
   "metadata": {},
   "source": [
    "`os:`\n",
    "\n",
    "**Explanation:** A standard Python library for interacting with the operating system (e.g., file paths, environment variables). <br>\n",
    "**Use case:** It helps manage files, directories, and environment variables in your project. For example, os.path can be used to get file paths dynamically.\n",
    "\n",
    "`torch:`\n",
    "\n",
    "**Explanation:** The core library for PyTorch, which is used for creating and managing tensors (multi-dimensional arrays) and building neural networks. <br>\n",
    "**Use case:** It allows you to perform mathematical operations on tensors, which is essential in machine learning tasks like deep learning.\n",
    "\n",
    "`torchvision:`\n",
    "\n",
    "**Explanation:** A PyTorch library containing popular datasets, model architectures, and image transformation utilities.<br>\n",
    "**Use case:** It helps handle computer vision tasks by providing pre-built functions to load datasets like CIFAR-10 and transform images for model training.\n",
    "\n",
    "`tarfile:`\n",
    "\n",
    "**Explanation:** A Python library for reading and writing tar archive files (.tar, .tar.gz, etc.).<br>\n",
    "**Use case:** It can be used to compress or extract tar files. For instance, downloading and extracting datasets that come in compressed formats.\n",
    "\n",
    "`torchvision.datasets.utils.download_url:`\n",
    "\n",
    "**Explanation:** A utility function to download a dataset or file from a URL.<br>\n",
    "**Use case:** It automates the downloading of files from the web (like datasets for training models).\n",
    "\n",
    "`torch.utils.data.random_split:`\n",
    "\n",
    "**Explanation:** A PyTorch utility to split datasets into random subsets (like training and testing sets).<br>\n",
    "**Use case:** It helps in splitting your dataset for model evaluation, such as separating data into training and validation sets."
   ]
  },
  {
   "cell_type": "code",
   "execution_count": 15,
   "metadata": {},
   "outputs": [],
   "source": [
    "project_name = '05-cifar10-cnn'"
   ]
  },
  {
   "cell_type": "markdown",
   "metadata": {},
   "source": [
    "Check the all data inside the following dataset folder"
   ]
  },
  {
   "cell_type": "code",
   "execution_count": 24,
   "metadata": {},
   "outputs": [
    {
     "name": "stdout",
     "output_type": "stream",
     "text": [
      "['test', 'train']\n",
      "['airplane', 'automobile', 'bird', 'cat', 'deer', 'dog', 'frog', 'horse', 'ship', 'truck']\n"
     ]
    }
   ],
   "source": [
    "sample_data = './data_set/cifar10'\n",
    "print(os.listdir(sample_data))\n",
    "classes = os.listdir(sample_data + \"/train\")\n",
    "print(classes)"
   ]
  },
  {
   "cell_type": "code",
   "execution_count": null,
   "metadata": {},
   "outputs": [],
   "source": []
  }
 ],
 "metadata": {
  "kernelspec": {
   "display_name": "Python 3",
   "language": "python",
   "name": "python3"
  },
  "language_info": {
   "codemirror_mode": {
    "name": "ipython",
    "version": 3
   },
   "file_extension": ".py",
   "mimetype": "text/x-python",
   "name": "python",
   "nbconvert_exporter": "python",
   "pygments_lexer": "ipython3",
   "version": "3.12.5"
  }
 },
 "nbformat": 4,
 "nbformat_minor": 2
}
