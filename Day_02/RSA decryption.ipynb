{
 "cells": [
  {
   "cell_type": "markdown",
   "metadata": {},
   "source": [
    "## Encrypt data with AES"
   ]
  },
  {
   "cell_type": "markdown",
   "metadata": {},
   "source": [
    "the receiver is not able to detect if the ciphertext (i.e., the encrypted data) was modified while in transit. To address that risk, we also attach a MAC authentication tag (HMAC with SHA256), made with a second key."
   ]
  },
  {
   "cell_type": "code",
   "execution_count": 1,
   "metadata": {},
   "outputs": [
    {
     "name": "stdout",
     "output_type": "stream",
     "text": [
      "Requirement already satisfied: pycryptodome in c:\\users\\jayesh pandey\\appdata\\local\\programs\\python\\python312\\lib\\site-packages (3.20.0)\n"
     ]
    },
    {
     "name": "stderr",
     "output_type": "stream",
     "text": [
      "WARNING: Ignoring invalid distribution ~atplotlib (C:\\Users\\Jayesh pandey\\AppData\\Local\\Programs\\Python\\Python312\\Lib\\site-packages)\n",
      "WARNING: Ignoring invalid distribution ~atplotlib (C:\\Users\\Jayesh pandey\\AppData\\Local\\Programs\\Python\\Python312\\Lib\\site-packages)\n",
      "WARNING: Ignoring invalid distribution ~atplotlib (C:\\Users\\Jayesh pandey\\AppData\\Local\\Programs\\Python\\Python312\\Lib\\site-packages)\n"
     ]
    }
   ],
   "source": [
    "!pip install pycryptodome"
   ]
  },
  {
   "cell_type": "code",
   "execution_count": 2,
   "metadata": {},
   "outputs": [
    {
     "name": "stdout",
     "output_type": "stream",
     "text": [
      "Requirement already satisfied: pycryptodome-test-vectors in c:\\users\\jayesh pandey\\appdata\\local\\programs\\python\\python312\\lib\\site-packages (1.0.17)\n"
     ]
    },
    {
     "name": "stderr",
     "output_type": "stream",
     "text": [
      "WARNING: Ignoring invalid distribution ~atplotlib (C:\\Users\\Jayesh pandey\\AppData\\Local\\Programs\\Python\\Python312\\Lib\\site-packages)\n",
      "WARNING: Ignoring invalid distribution ~atplotlib (C:\\Users\\Jayesh pandey\\AppData\\Local\\Programs\\Python\\Python312\\Lib\\site-packages)\n",
      "WARNING: Ignoring invalid distribution ~atplotlib (C:\\Users\\Jayesh pandey\\AppData\\Local\\Programs\\Python\\Python312\\Lib\\site-packages)\n"
     ]
    }
   ],
   "source": [
    "!pip install pycryptodome-test-vectors"
   ]
  },
  {
   "cell_type": "code",
   "execution_count": 3,
   "metadata": {},
   "outputs": [],
   "source": [
    "from Crypto.Cipher import AES\n",
    "from Crypto.Random import get_random_bytes\n",
    "from Crypto.Hash import HMAC, SHA256"
   ]
  },
  {
   "cell_type": "markdown",
   "metadata": {},
   "source": [
    "\n",
    "- **`AES`**: A symmetric encryption algorithm used to encrypt and decrypt data.\n",
    "- **`get_random_bytes`**: Generates random bytes for keys or initialization vectors.\n",
    "- **`HMAC`**: Provides data integrity and authenticity using a hash function and a secret key.\n",
    "- **`SHA256`**: A cryptographic hash function that produces a 256-bit hash value."
   ]
  },
  {
   "cell_type": "code",
   "execution_count": 7,
   "metadata": {},
   "outputs": [
    {
     "data": {
      "text/plain": [
       "(b'\\t\\x07\\xa5\\x01\\xe5\\xbaD\\xc5\\x8c\\xc2<\\xd7\\xefE\\xe6\\xdb',\n",
       " b'\\xdc;\\x0b\\x87\\xbe\\xd4\\xc1Co\\xe0\\x9a\\xc8\\xb4\\xcd\\xf6\\xb7',\n",
       " b'\\x1bxx=6S\\x91\\x94\\x19\\xb3\\xe6\\xf7$\\x97\\xa8\\xa8e\\xaf\\xa9:\\x04>\\x9f\\xf0\\xf2%MGD\\xb5\\x013f\\x97\\xf3\\xb1\\xefZE\\x9d#S\\x8f\\xb4\\x1e\\xad\\x0c\\xfc hd\\x97\\x9fi\\xb7\"fA\\x8cX\\xc2C\\xbfu\\xa8\\x86\\xf8-\\xc3t\\xe1t\\xf2\\xaa\\xff\\xb7i\\x15\\x14\\x14\\xb6^lil',\n",
       " <Crypto.Hash.HMAC.HMAC at 0x12393506cf0>)"
      ]
     },
     "execution_count": 7,
     "metadata": {},
     "output_type": "execute_result"
    }
   ],
   "source": [
    "input_data = 'PyCryptodome is a self-contained Python package of low-level cryptographic primitives'\n",
    "\n",
    "data = input_data.encode()\n",
    "\n",
    "# generate random 16 bit data\n",
    "aes_key = get_random_bytes(16)  \n",
    "hmac_key = get_random_bytes(16) \n",
    "\n",
    "# Convert the normal Input into the cipher text(Encrypted)\n",
    "cipher = AES.new(aes_key, AES.MODE_CTR)\n",
    "ciphertext = cipher.encrypt(data)\n",
    "\n",
    "# It generate Hash Key \n",
    "hmac = HMAC.new(hmac_key, digestmod=SHA256)\n",
    "tag = hmac.update(cipher.nonce + ciphertext).digest()\n",
    "\n",
    "# All Data Store into a `Encypted.bin` file\n",
    "with open(\"encrypted.bin\", \"wb\") as f:\n",
    "    f.write(tag)\n",
    "    f.write(cipher.nonce)\n",
    "    f.write(ciphertext)\n",
    "    \n",
    "aes_key, hmac_key, ciphertext, hmac"
   ]
  },
  {
   "cell_type": "markdown",
   "metadata": {},
   "source": [
    "At the other end, the receiver can securely load the piece of data back (if they know the two keys!). Note that the code generates a ValueError exception when tampering is detected."
   ]
  },
  {
   "cell_type": "code",
   "execution_count": 8,
   "metadata": {},
   "outputs": [
    {
     "name": "stdout",
     "output_type": "stream",
     "text": [
      "Message: PyCryptodome is a self-contained Python package of low-level cryptographic primitives\n"
     ]
    }
   ],
   "source": [
    "import sys\n",
    "\n",
    "with open(\"encrypted.bin\", \"rb\") as f:\n",
    "    tag = f.read(32)\n",
    "    nonce = f.read(8)\n",
    "    ciphertext = f.read()\n",
    "\n",
    "try:\n",
    "    hmac = HMAC.new(hmac_key, digestmod=SHA256)\n",
    "    tag = hmac.update(nonce + ciphertext).verify(tag)\n",
    "except ValueError:\n",
    "    print(\"The message was modified!\")\n",
    "    sys.exit(1)\n",
    "\n",
    "cipher = AES.new(aes_key, AES.MODE_CTR, nonce=nonce)\n",
    "message = cipher.decrypt(ciphertext)\n",
    "print(\"Message:\", message.decode())"
   ]
  },
  {
   "cell_type": "markdown",
   "metadata": {},
   "source": [
    "## PyCryptodome is a self-contained Python package of low-level cryptographic primitives"
   ]
  },
  {
   "cell_type": "markdown",
   "metadata": {},
   "source": [
    "The code in the previous section contains three subtle but important design decisions: the nonce of the cipher is authenticated, the authentication is performed after encryption, and encryption and authentication use two uncorrelated keys. It is not easy to securely combine cryptographic primitives, so more modern cryptographic cipher modes have been created such as, the OCB mode (see also other authenticated encryption modes like EAX, GCM, CCM, SIV)."
   ]
  },
  {
   "cell_type": "code",
   "execution_count": 24,
   "metadata": {},
   "outputs": [
    {
     "data": {
      "text/plain": [
       "(<Crypto.Cipher._mode_ocb.OcbMode at 0x123943c6450>,\n",
       " b\"pI\\x96\\xf5I4\\tt\\n\\xc2\\xd0\\xcc$\\xbc[\\x98\\xac@\\x08\\xeb\\xd3\\xdd\\xacR\\xb0\\xa6\\xe6\\xb3W\\xb8]6\\xb7\\x87wu\\x07\\x01\\xac\\x9f\\x19\\x0b\\xa0\\xc8U\\xd6\\x8b\\x0c\\xee\\xa4O_\\x13\\x89\\xd6\\x19\\x15\\x89-\\x98\\xb9,4\\x86'q\\xcf\\xc2\\xd4\\xad\\xbc\\xe3\\xda\\x1f\\xd5_#~\\\\\\xee\\x96\\x07\\xf7O\\xfe\",\n",
       " b\"_',o|\\xab\\x82\\xd0X\\xbdX\\x85\\xf6\\xce\\x98O\")"
      ]
     },
     "execution_count": 24,
     "metadata": {},
     "output_type": "execute_result"
    }
   ],
   "source": [
    "data_obc = input_data.encode()\n",
    "\n",
    "aes_key_obc = get_random_bytes(16)\n",
    "\n",
    "cipher_obc = AES.new(aes_key_obc, AES.MODE_OCB)\n",
    "ciphertext_obc, tag_obc = cipher_obc.encrypt_and_digest(data_obc)\n",
    "assert len(cipher_obc.nonce) == 15\n",
    "\n",
    "with open(\"encrypted_obc.bin\", \"wb\") as f:\n",
    "    f.write(tag_obc)\n",
    "    f.write(cipher_obc.nonce)\n",
    "    f.write(ciphertext_obc)\n",
    "    \n",
    "cipher_obc, ciphertext_obc, aes_key_obc"
   ]
  },
  {
   "cell_type": "markdown",
   "metadata": {},
   "source": [
    "Decryption"
   ]
  },
  {
   "cell_type": "code",
   "execution_count": 27,
   "metadata": {},
   "outputs": [
    {
     "name": "stdout",
     "output_type": "stream",
     "text": [
      "Message: PyCryptodome is a self-contained Python package of low-level cryptographic primitives\n"
     ]
    }
   ],
   "source": [
    "with open(\"encrypted_obc.bin\", \"rb\") as f:\n",
    "    tag_obc_decrypt = f.read(16)  # Read 16 bytes for the tag\n",
    "    nonce_obc_decrypt = f.read(15)  # Read 15 bytes for the nonce\n",
    "    ciphertext_obc_decrypt = f.read()  # Read the remaining ciphertext\n",
    "\n",
    "# Decrypt using the same key and nonce from the file\n",
    "cipher_obc_decrypt = AES.new(aes_key_obc, AES.MODE_OCB, nonce=nonce_obc_decrypt)\n",
    "\n",
    "try:\n",
    "    # Decrypt and verify the message\n",
    "    message_obc_decrypt = cipher_obc_decrypt.decrypt_and_verify(ciphertext_obc_decrypt, tag_obc_decrypt)\n",
    "except ValueError:\n",
    "    print(\"The message was modified!\")\n",
    "    sys.exit(1)\n",
    "\n",
    "# If successful, print the decrypted message\n",
    "print(\"Message:\", message_obc_decrypt.decode())\n"
   ]
  },
  {
   "cell_type": "markdown",
   "metadata": {},
   "source": [
    "## Generate an RSA key"
   ]
  },
  {
   "cell_type": "markdown",
   "metadata": {},
   "source": [
    "The following code generates a new RSA key pair (secret) and saves it into a file, protected by a password. We use the scrypt key derivation function to thwart dictionary attacks. At the end, the code prints our the RSA public key in ASCII/PEM format:"
   ]
  },
  {
   "cell_type": "code",
   "execution_count": 29,
   "metadata": {},
   "outputs": [
    {
     "name": "stdout",
     "output_type": "stream",
     "text": [
      "b'-----BEGIN PUBLIC KEY-----\\nMIIBIjANBgkqhkiG9w0BAQEFAAOCAQ8AMIIBCgKCAQEAq8F07UHVm6wyWSjTq6lX\\n1xGsVy4NR1V24XQ8RQ1Q4dirsWnrC6YB3XJqR6WnbiD3mykK2BAU28K1Ol7fWSjn\\nRukLeXdH/BLrPBx2tW0ACC8nuoK06CEqX0sjzcef0228cuMwIq3C73JsENMVMu6B\\n1GVyE8xRdOovHcoTpVMt7q/sOm3srnKqT9y3gcO8yhgzsv+6ttmWNZZzQzjFkzuO\\n6yFUKLXPfGvDqAywqhToIDiZhjP1IY/MNUE/HrBzo6sgW1SHVnNQ2hZTyaVOdEEJ\\nZ/XCaeHnE9dxaADWG/ANe4Cywq5qT4Wh7icF4QNqpjGW/7e4oNYJBAWtslN12AKw\\nYwIDAQAB\\n-----END PUBLIC KEY-----'\n"
     ]
    }
   ],
   "source": [
    "from Crypto.PublicKey import RSA\n",
    "\n",
    "secret_code = input_data\n",
    "key = RSA.generate(2048)\n",
    "encrypted_key = key.export_key(passphrase=secret_code, pkcs=8,\n",
    "                              protection=\"scryptAndAES128-CBC\",\n",
    "                              prot_params={'iteration_count':131072})\n",
    "\n",
    "with open(\"rsa_key.bin\", \"wb\") as f:\n",
    "    f.write(encrypted_key)\n",
    "\n",
    "print(key.publickey().export_key())"
   ]
  },
  {
   "cell_type": "markdown",
   "metadata": {},
   "source": [
    "This code generates an RSA key pair, encrypts the private key using a passphrase, and then writes the encrypted private key to a file. Here's a breakdown of each part:\n",
    "\n",
    "1. **`from Crypto.PublicKey import RSA`**:\n",
    "   - Imports the `RSA` module from `pycryptodome` to generate RSA public/private key pairs.\n",
    "\n",
    "2. **`secret_code = \"Unguessable\"`**:\n",
    "   - Defines a passphrase (`secret_code`) that will be used to encrypt the private key. In this case, the passphrase is `\"Unguessable\"`, but this can be any string.\n",
    "\n",
    "3. **`key = RSA.generate(2048)`**:\n",
    "   - Generates a new 2048-bit RSA key pair (both public and private keys). RSA is an asymmetric encryption algorithm commonly used for secure data transmission and digital signatures.\n",
    "\n",
    "4. **`encrypted_key = key.export_key(...)`**:\n",
    "   - Exports the private key with encryption using the following options:\n",
    "     - `passphrase=secret_code`: The private key is encrypted using the passphrase `\"Unguessable\"`.\n",
    "     - `pkcs=8`: Specifies that the key will be exported using the **PKCS#8** format, which is a standard for private key information.\n",
    "     - `protection=\"scryptAndAES128-CBC\"`: Uses the **scrypt** key derivation function combined with **AES-128** encryption in **CBC mode** to secure the private key.\n",
    "     - `prot_params={'iteration_count':131072}`: This sets the number of iterations for the key derivation function (scrypt), making brute-force attacks harder. In this case, it's set to 131,072 iterations.\n",
    "\n",
    "5. **`with open(\"rsa_key.bin\", \"wb\") as f:`**:\n",
    "   - Opens a binary file named `\"rsa_key.bin\"` for writing.\n",
    "\n",
    "6. **`f.write(encrypted_key)`**:\n",
    "   - Writes the encrypted private key to the file `\"rsa_key.bin\"`. This ensures that the private key is securely stored and can only be decrypted using the provided passphrase.\n",
    "\n",
    "7. **`print(key.publickey().export_key())`**:\n",
    "   - Extracts the public key from the RSA key pair (`key.publickey()`) and prints it in the default PEM format. The public key is not encrypted and can be shared freely since it is used for encryption and signature verification, not decryption.\n",
    "\n",
    "### Summary:\n",
    "- The code generates an RSA key pair, encrypts the private key using a passphrase and AES encryption, and writes the encrypted private key to a file.\n",
    "- It also prints the public key, which can be shared openly for encryption or verification purposes.\n",
    "\n",
    "This is useful for securely storing private keys and ensuring that only authorized users with the correct passphrase can access the key for decryption or signing operations."
   ]
  },
  {
   "cell_type": "code",
   "execution_count": 30,
   "metadata": {},
   "outputs": [
    {
     "name": "stdout",
     "output_type": "stream",
     "text": [
      "b'-----BEGIN PUBLIC KEY-----\\nMIIBIjANBgkqhkiG9w0BAQEFAAOCAQ8AMIIBCgKCAQEAq8F07UHVm6wyWSjTq6lX\\n1xGsVy4NR1V24XQ8RQ1Q4dirsWnrC6YB3XJqR6WnbiD3mykK2BAU28K1Ol7fWSjn\\nRukLeXdH/BLrPBx2tW0ACC8nuoK06CEqX0sjzcef0228cuMwIq3C73JsENMVMu6B\\n1GVyE8xRdOovHcoTpVMt7q/sOm3srnKqT9y3gcO8yhgzsv+6ttmWNZZzQzjFkzuO\\n6yFUKLXPfGvDqAywqhToIDiZhjP1IY/MNUE/HrBzo6sgW1SHVnNQ2hZTyaVOdEEJ\\nZ/XCaeHnE9dxaADWG/ANe4Cywq5qT4Wh7icF4QNqpjGW/7e4oNYJBAWtslN12AKw\\nYwIDAQAB\\n-----END PUBLIC KEY-----'\n"
     ]
    }
   ],
   "source": [
    "secret_code = input_data\n",
    "encoded_key = open(\"rsa_key.bin\", \"rb\").read()\n",
    "key = RSA.import_key(encoded_key, passphrase=secret_code)\n",
    "\n",
    "print(key.publickey().export_key())"
   ]
  },
  {
   "cell_type": "markdown",
   "metadata": {},
   "source": [
    "## Generate public key and private key"
   ]
  },
  {
   "cell_type": "markdown",
   "metadata": {},
   "source": [
    "The following code generates public key stored in receiver.pem and private key stored in private.pem. These files will be used in the examples below. Every time, it generates different public key and private key pair."
   ]
  },
  {
   "cell_type": "code",
   "execution_count": 31,
   "metadata": {},
   "outputs": [],
   "source": [
    "key = RSA.generate(2048)\n",
    "private_key = key.export_key()\n",
    "with open(\"private.pem\", \"wb\") as f:\n",
    "    f.write(private_key)\n",
    "\n",
    "public_key = key.publickey().export_key()\n",
    "with open(\"receiver.pem\", \"wb\") as f:\n",
    "    f.write(public_key)"
   ]
  },
  {
   "cell_type": "markdown",
   "metadata": {},
   "source": [
    "## Encrypt data with RSA"
   ]
  },
  {
   "cell_type": "markdown",
   "metadata": {},
   "source": [
    "The following code encrypts a piece of data for a receiver we have the RSA public key of. The RSA public key is stored in a file called receiver.pem.\n",
    "\n",
    "Since we want to be able to encrypt an arbitrary amount of data, we use a hybrid encryption scheme. We use RSA with PKCS#1 OAEP for asymmetric encryption of an AES session key. The session key can then be used to encrypt all the actual data.\n",
    "\n",
    "As in the first example, we use the EAX mode to allow detection of unauthorized modifications."
   ]
  },
  {
   "cell_type": "code",
   "execution_count": 34,
   "metadata": {},
   "outputs": [],
   "source": [
    "from Crypto.Cipher import PKCS1_OAEP"
   ]
  },
  {
   "cell_type": "code",
   "execution_count": 35,
   "metadata": {},
   "outputs": [],
   "source": [
    "data = input_data.encode(\"utf-8\")\n",
    "\n",
    "recipient_key = RSA.import_key(open(\"receiver.pem\").read())\n",
    "session_key = get_random_bytes(16)\n",
    "\n",
    "# Encrypt the session key with the public RSA key\n",
    "\n",
    "cipher_rsa = PKCS1_OAEP.new(recipient_key)\n",
    "enc_session_key = cipher_rsa.encrypt(session_key)\n",
    "\n",
    "# Encrypt the data with the AES session key\n",
    "\n",
    "cipher_aes = AES.new(session_key, AES.MODE_EAX)\n",
    "ciphertext, tag = cipher_aes.encrypt_and_digest(data)\n",
    "\n",
    "with open(\"encrypted_data.bin\", \"wb\") as f:\n",
    "    f.write(enc_session_key)\n",
    "    f.write(cipher_aes.nonce)\n",
    "    f.write(tag)\n",
    "    f.write(ciphertext)"
   ]
  },
  {
   "cell_type": "markdown",
   "metadata": {},
   "source": [
    "The receiver has the private RSA key. They will use it to decrypt the session key first, and with that the rest of the file:"
   ]
  },
  {
   "cell_type": "code",
   "execution_count": 36,
   "metadata": {},
   "outputs": [
    {
     "name": "stdout",
     "output_type": "stream",
     "text": [
      "PyCryptodome is a self-contained Python package of low-level cryptographic primitives\n"
     ]
    }
   ],
   "source": [
    "private_key = RSA.import_key(open(\"private.pem\").read())\n",
    "\n",
    "with open(\"encrypted_data.bin\", \"rb\") as f:\n",
    "    enc_session_key = f.read(private_key.size_in_bytes())\n",
    "    nonce = f.read(16)\n",
    "    tag = f.read(16)\n",
    "    ciphertext = f.read()\n",
    "\n",
    "# Decrypt the session key with the private RSA key\n",
    "cipher_rsa = PKCS1_OAEP.new(private_key)\n",
    "session_key = cipher_rsa.decrypt(enc_session_key)\n",
    "\n",
    "# Decrypt the data with the AES session key\n",
    "cipher_aes = AES.new(session_key, AES.MODE_EAX, nonce)\n",
    "data = cipher_aes.decrypt_and_verify(ciphertext, tag)\n",
    "print(data.decode(\"utf-8\"))"
   ]
  },
  {
   "cell_type": "code",
   "execution_count": null,
   "metadata": {},
   "outputs": [],
   "source": []
  }
 ],
 "metadata": {
  "kernelspec": {
   "display_name": "Python 3",
   "language": "python",
   "name": "python3"
  },
  "language_info": {
   "codemirror_mode": {
    "name": "ipython",
    "version": 3
   },
   "file_extension": ".py",
   "mimetype": "text/x-python",
   "name": "python",
   "nbconvert_exporter": "python",
   "pygments_lexer": "ipython3",
   "version": "3.12.5"
  }
 },
 "nbformat": 4,
 "nbformat_minor": 2
}
